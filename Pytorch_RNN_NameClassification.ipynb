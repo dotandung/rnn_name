{
  "nbformat": 4,
  "nbformat_minor": 0,
  "metadata": {
    "colab": {
      "name": "Pytorch_RNN_NameClassification.ipynb",
      "provenance": [],
      "collapsed_sections": []
    },
    "kernelspec": {
      "name": "python3",
      "display_name": "Python 3"
    },
    "language_info": {
      "name": "python"
    }
  },
  "cells": [
    {
      "cell_type": "markdown",
      "metadata": {
        "id": "dPKIj6ZYdzi8"
      },
      "source": [
        "# **Preprocessing**"
      ]
    },
    {
      "cell_type": "code",
      "metadata": {
        "id": "rAEy0KGoY8IH"
      },
      "source": [
        "from __future__ import unicode_literals, print_function, division\n",
        "from io import open \n",
        "import glob \n",
        "import os\n",
        "\n",
        "import unicodedata\n",
        "import string\n",
        "\n",
        "all_letters = string.ascii_letters + \".,;'\"\n",
        "n_letters = len(all_letters)"
      ],
      "execution_count": null,
      "outputs": []
    },
    {
      "cell_type": "code",
      "metadata": {
        "colab": {
          "base_uri": "https://localhost:8080/"
        },
        "id": "G-LMBdZta_h-",
        "outputId": "3cd8d155-29e8-4116-c66b-651608205549"
      },
      "source": [
        "def unicode_to_ascii(s):\n",
        "  return ''.join(c for c in unicodedata.normalize('NFD', s)\n",
        "                    if unicodedata.category(c) != 'Mn' and c in all_letters)\n",
        "\n",
        "print(unicode_to_ascii(\"Ślusàrski\"))"
      ],
      "execution_count": null,
      "outputs": [
        {
          "output_type": "stream",
          "text": [
            "Slusarski\n"
          ],
          "name": "stdout"
        }
      ]
    },
    {
      "cell_type": "code",
      "metadata": {
        "colab": {
          "base_uri": "https://localhost:8080/"
        },
        "id": "IEKrLoGccz0H",
        "outputId": "24dd61fd-565d-4555-fddc-f541ddb44b61"
      },
      "source": [
        "print(glob.glob('../data/*.txt'))"
      ],
      "execution_count": null,
      "outputs": [
        {
          "output_type": "stream",
          "text": [
            "['../data/Scottish.txt', '../data/Dutch.txt', '../data/Portuguese.txt', '../data/Japanese.txt', '../data/Arabic.txt', '../data/French.txt', '../data/Russian.txt', '../data/Chinese.txt', '../data/English.txt', '../data/Polish.txt', '../data/Vietnamese.txt', '../data/Italian.txt', '../data/Greek.txt', '../data/Korean.txt', '../data/German.txt', '../data/Czech.txt', '../data/Irish.txt', '../data/Spanish.txt']\n"
          ],
          "name": "stdout"
        }
      ]
    },
    {
      "cell_type": "code",
      "metadata": {
        "id": "f_uuFkVcb2J4"
      },
      "source": [
        "category_lines = {}\n",
        "all_categories = []\n",
        "\n",
        "def process_data(filename):\n",
        "  lines = open(filename, encoding='utf-8').read().strip().split('\\n')\n",
        "  return [unicode_to_ascii(line) for line in lines]\n",
        "\n",
        "for filename in glob.glob('../data/*.txt'):\n",
        "  language = filename.split('/')[-1][:-4]\n",
        "  all_categories.append(language)\n",
        "  category_lines[language] = process_data(filename)"
      ],
      "execution_count": null,
      "outputs": []
    },
    {
      "cell_type": "code",
      "metadata": {
        "id": "_hU7xZpBdnaf"
      },
      "source": [
        "n_categories = len(all_categories)"
      ],
      "execution_count": null,
      "outputs": []
    },
    {
      "cell_type": "markdown",
      "metadata": {
        "id": "VY-NQVd9d7GU"
      },
      "source": [
        "# **TENSORS**"
      ]
    },
    {
      "cell_type": "code",
      "metadata": {
        "id": "6DmVPBPRedTl"
      },
      "source": [
        "import torch\n",
        "import torch.nn.functional as F"
      ],
      "execution_count": null,
      "outputs": []
    },
    {
      "cell_type": "code",
      "metadata": {
        "colab": {
          "base_uri": "https://localhost:8080/"
        },
        "id": "Y691Pw74d6jU",
        "outputId": "6d5041af-5d4d-4035-8ef9-6cb274f87db6"
      },
      "source": [
        "def letter_to_index(letter):\n",
        "  return all_letters.find(letter)\n",
        "\n",
        "def letter_to_tensor(letter):\n",
        "  one_hot = torch.zeros(1, n_letters)\n",
        "  one_hot[0][letter_to_index(letter)] = 1\n",
        "  return one_hot\n",
        "\n",
        "print(letter_to_tensor('o'))"
      ],
      "execution_count": null,
      "outputs": [
        {
          "output_type": "stream",
          "text": [
            "tensor([[0., 0., 0., 0., 0., 0., 0., 0., 0., 0., 0., 0., 0., 0., 1., 0., 0., 0.,\n",
            "         0., 0., 0., 0., 0., 0., 0., 0., 0., 0., 0., 0., 0., 0., 0., 0., 0., 0.,\n",
            "         0., 0., 0., 0., 0., 0., 0., 0., 0., 0., 0., 0., 0., 0., 0., 0., 0., 0.,\n",
            "         0., 0.]])\n"
          ],
          "name": "stdout"
        }
      ]
    },
    {
      "cell_type": "code",
      "metadata": {
        "colab": {
          "base_uri": "https://localhost:8080/"
        },
        "id": "w3Do_sjWdw64",
        "outputId": "a8990112-2b2b-4c4e-b513-303ad6ebb1e0"
      },
      "source": [
        "def line_to_tensor(line):\n",
        "  tensor = torch.zeros(len(line), 1, n_letters)\n",
        "  for ind, letter in enumerate(line):\n",
        "    tensor[ind] = letter_to_tensor(letter)\n",
        "  return tensor\n",
        "\n",
        "print(line_to_tensor('hi').shape)"
      ],
      "execution_count": null,
      "outputs": [
        {
          "output_type": "stream",
          "text": [
            "torch.Size([2, 1, 56])\n"
          ],
          "name": "stdout"
        }
      ]
    },
    {
      "cell_type": "markdown",
      "metadata": {
        "id": "Io8s8Rd9gX6x"
      },
      "source": [
        "## MODEL"
      ]
    },
    {
      "cell_type": "code",
      "metadata": {
        "id": "bbVorn4FgXiX"
      },
      "source": [
        "import torch.nn as nn\n",
        "\n",
        "class RNN(nn.Module):\n",
        "  def __init__(self, input_size, hidden_size, output_size):\n",
        "    super(RNN, self).__init__()\n",
        "\n",
        "    self.hidden_size = hidden_size\n",
        "\n",
        "    self.i2h = nn.Linear(input_size + hidden_size, hidden_size)\n",
        "    self.i2o = nn.Linear(input_size + hidden_size, output_size)\n",
        "\n",
        "    self.softmax = nn.LogSoftmax(1)\n",
        "\n",
        "  def forward(self, input, hidden):\n",
        "    emb = torch.cat((input, hidden), 1)\n",
        "    hidden_state = self.i2h(emb)\n",
        "    output = self.i2o(emb)\n",
        "    output = self.softmax(output)\n",
        "\n",
        "    return output, hidden_state\n",
        "  \n",
        "  def init_hidden(self):\n",
        "    return torch.zeros(1, self.hidden_size)\n",
        "\n",
        "n_hidden = 128\n",
        "\n",
        "rnn = RNN(n_letters, n_hidden, n_categories)"
      ],
      "execution_count": null,
      "outputs": []
    },
    {
      "cell_type": "code",
      "metadata": {
        "id": "Ik2ktx-DgV44"
      },
      "source": [
        "input = letter_to_tensor('A')\n",
        "hidden = torch.zeros(1, n_hidden)\n",
        "\n",
        "output, _ = rnn.forward(input, hidden)"
      ],
      "execution_count": null,
      "outputs": []
    },
    {
      "cell_type": "code",
      "metadata": {
        "colab": {
          "base_uri": "https://localhost:8080/"
        },
        "id": "gaklujpaSZ9z",
        "outputId": "fc6ad07a-a8d4-46ff-8439-ad0abe26ea88"
      },
      "source": [
        "def category_from_output(output):\n",
        "  top_n, top_i = output.topk(1)\n",
        "  category_i = top_i[0].item()\n",
        "\n",
        "  return all_categories[category_i], category_i\n",
        "\n",
        "print(category_from_output(output))"
      ],
      "execution_count": null,
      "outputs": [
        {
          "output_type": "stream",
          "text": [
            "('Korean', 13)\n"
          ],
          "name": "stdout"
        }
      ]
    },
    {
      "cell_type": "code",
      "metadata": {
        "id": "IRPdofAiS46I"
      },
      "source": [
        "import random\n",
        "\n",
        "def random_choice(l):\n",
        "  return l[random.randint(0, len(l)-1)]\n",
        "\n",
        "def randomTrainingExample():\n",
        "  category = random_choice(all_categories)\n",
        "  line = random_choice(category_lines[category])\n",
        "  category_tensor = torch.tensor([all_categories.index(category)], dtype=torch.long)\n",
        "  line_tensor = line_to_tensor(line)\n",
        "  return category, line, category_tensor, line_tensor\n",
        "\n",
        "for i in range(10):\n",
        "  category, line, category_tensor, line_tensor = randomTrainingExample()\n",
        "  print('category =', category, '/ line =', line)\n",
        "  print(category_tensor, line_tensor)\n"
      ],
      "execution_count": null,
      "outputs": []
    },
    {
      "cell_type": "code",
      "metadata": {
        "id": "JRP7A7UUTrzz"
      },
      "source": [
        "criterion = nn.NLLLoss()\n",
        "\n",
        "learning_rate = 0.005\n",
        "\n",
        "def train(category_tensor, line_tensor):\n",
        "  hidden = rnn.init_hidden()\n",
        "\n",
        "  rnn.zero_grad()\n",
        "\n",
        "  for i in range(line_tensor.size()[0]):\n",
        "    output, hidden = rnn.forward(line_tensor[i], hidden)\n",
        "  print(output)\n",
        "  print(category_tensor)\n",
        "  loss = criterion(output, category_tensor)\n",
        "  loss.backward()\n",
        "\n",
        "  for p in rnn.parameters():\n",
        "    p.data.add_(p.grad.data, alpha=-learning_rate)\n",
        "  \n",
        "  return output, loss.item()"
      ],
      "execution_count": null,
      "outputs": []
    },
    {
      "cell_type": "code",
      "metadata": {
        "colab": {
          "base_uri": "https://localhost:8080/"
        },
        "id": "W8GXFubdUnLt",
        "outputId": "bad19df1-a351-4b28-eb2f-b4f319802f64"
      },
      "source": [
        "import time\n",
        "import math\n",
        "\n",
        "n_iters = 100000\n",
        "print_every = 5000\n",
        "plot_every = 1000\n",
        "\n",
        "current_loss = 0\n",
        "all_losses = []\n",
        "\n",
        "def timeSince(since):\n",
        "  now = time.time()\n",
        "  s = now - since\n",
        "  m = math.floor(s / 60)\n",
        "  s -= m * 60\n",
        "  return '%dm %ds' % (m, s)\n",
        "\n",
        "start = time.time()\n",
        "\n",
        "for iter in range(1, n_iters + 1):\n",
        "  category, line, category_tensor, line_tensor = randomTrainingExample()\n",
        "  output, loss = train(category_tensor, line_tensor)\n",
        "  current_loss += loss\n",
        "\n",
        "  if iter % print_every == 0:\n",
        "    guess, guess_i = category_from_output(output)\n",
        "    print(iter, iter/n_iters, loss, line, guess, category)\n",
        "  \n",
        "  if iter % plot_every == 0:\n",
        "    all_losses.append(current_loss/plot_every)\n",
        "    current_loss = 0\n"
      ],
      "execution_count": null,
      "outputs": [
        {
          "output_type": "stream",
          "text": [
            "5000 0.05 2.6378629207611084 Allport Italian English\n",
            "10000 0.1 0.8043183088302612 Takemago Japanese Japanese\n",
            "15000 0.15 2.0767393112182617 Cuoco Vietnamese Italian\n",
            "20000 0.2 1.3179370164871216 Alvarez Portuguese Spanish\n",
            "25000 0.25 1.832685112953186 Reveley Spanish English\n",
            "30000 0.3 3.1335160732269287 Rompaij French Dutch\n",
            "35000 0.35 2.0781612396240234 Kalogeria Czech Greek\n",
            "40000 0.4 0.7100926637649536 Lai Chinese Chinese\n",
            "45000 0.45 0.48469802737236023 Shiratori Japanese Japanese\n",
            "50000 0.5 4.954097747802734 Gerges English Arabic\n",
            "55000 0.55 1.6322245597839355 Craig Scottish Scottish\n",
            "60000 0.6 0.7524165511131287 Sneiders Dutch Dutch\n",
            "65000 0.65 1.1575745344161987 Henriques Portuguese Portuguese\n",
            "70000 0.7 1.2642368078231812 Deforest German French\n",
            "75000 0.75 0.8528753519058228 Crespo Portuguese Portuguese\n",
            "80000 0.8 1.559869647026062 Dubicki Japanese Polish\n",
            "85000 0.85 0.23345427215099335 Suk Korean Korean\n",
            "90000 0.9 0.0068380157463252544 Vassilopulos Greek Greek\n",
            "95000 0.95 2.2769687175750732 Braune French German\n",
            "100000 1.0 2.784649610519409 Kreisinger French Czech\n"
          ],
          "name": "stdout"
        }
      ]
    },
    {
      "cell_type": "code",
      "metadata": {
        "colab": {
          "base_uri": "https://localhost:8080/"
        },
        "id": "F2aDWqJNlz3u",
        "outputId": "35eb4d06-f9aa-43dd-bd40-caf0ce203a85"
      },
      "source": [
        "category, line, category_tensor, line_tensor = randomTrainingExample()\n",
        "output, loss = train(category_tensor, line_tensor)"
      ],
      "execution_count": null,
      "outputs": [
        {
          "output_type": "stream",
          "text": [
            "tensor([[-9.3171e+00, -8.0231e+00, -1.0833e+01, -6.1478e+00, -7.7561e+00,\n",
            "         -8.7408e+00, -1.4790e-02, -1.6232e+01, -6.0836e+00, -6.9409e+00,\n",
            "         -1.9677e+01, -9.1900e+00, -5.7975e+00, -1.7983e+01, -7.5351e+00,\n",
            "         -5.4650e+00, -8.9708e+00, -8.3375e+00]], grad_fn=<LogSoftmaxBackward>)\n",
            "tensor([6])\n"
          ],
          "name": "stdout"
        }
      ]
    },
    {
      "cell_type": "code",
      "metadata": {
        "id": "bgvcGUIjmRp-"
      },
      "source": [
        ""
      ],
      "execution_count": null,
      "outputs": []
    },
    {
      "cell_type": "code",
      "metadata": {
        "colab": {
          "base_uri": "https://localhost:8080/"
        },
        "id": "aLJsK_eNmKus",
        "outputId": "987b3029-de4f-4ece-fd7f-57e2ce56c179"
      },
      "source": [
        "loss = criterion(output, category_tensor)\n",
        "print(loss.item())"
      ],
      "execution_count": null,
      "outputs": [
        {
          "output_type": "stream",
          "text": [
            "0.014790172688663006\n"
          ],
          "name": "stdout"
        }
      ]
    },
    {
      "cell_type": "code",
      "metadata": {
        "colab": {
          "base_uri": "https://localhost:8080/",
          "height": 282
        },
        "id": "MmUfCa_MUHD_",
        "outputId": "a16712c8-cfa2-4808-9f65-ff9ed5dd9437"
      },
      "source": [
        "import matplotlib.pyplot as plt\n",
        "import matplotlib.ticker as ticker\n",
        "\n",
        "plt.figure()\n",
        "plt.plot(all_losses)"
      ],
      "execution_count": null,
      "outputs": [
        {
          "output_type": "execute_result",
          "data": {
            "text/plain": [
              "[<matplotlib.lines.Line2D at 0x7ff64ea6c4d0>]"
            ]
          },
          "metadata": {
            "tags": []
          },
          "execution_count": 26
        },
        {
          "output_type": "display_data",
          "data": {
            "image/png": "[encoded data removed]",
            "text/plain": [
              "<Figure size 432x288 with 1 Axes>"
            ]
          },
          "metadata": {
            "tags": [],
            "needs_background": "light"
          }
        }
      ]
    },
    {
      "cell_type": "code",
      "metadata": {
        "id": "amocwhc6W6yL"
      },
      "source": [
        "confusion = torch.zeros(n_categories, n_categories)\n",
        "\n",
        "n_confusion = 10000\n",
        "\n",
        "def evaluate(line_tensor):\n",
        "  hidden = rnn.init_hidden()\n",
        "\n",
        "  for i in range(line_tensor.size()[0]):\n",
        "    output, hidden = rnn.forward(line_tensor[i], hidden)\n",
        "\n",
        "  return output\n",
        "\n",
        "for i in range(n_confusion):\n",
        "  category, line, category_tensor, line_tensor = randomTrainingExample()\n",
        "  output = evaluate(line_tensor)\n",
        "  guess, guess_i = category_from_output(output)\n",
        "  category_i = all_categories.index(category)\n",
        "  confusion[category_i][guess_i] += 1\n",
        "\n",
        "for i in range(n_categories):\n",
        "  confusion[i] = confusion[i] / confusion[i].sum()\n",
        "\n",
        "\n"
      ],
      "execution_count": null,
      "outputs": []
    },
    {
      "cell_type": "code",
      "metadata": {
        "colab": {
          "base_uri": "https://localhost:8080/"
        },
        "id": "203XqtyoYzC8",
        "outputId": "152bdc8a-c4e5-4ffd-f98c-30146d907e94"
      },
      "source": [
        "print(confusion)"
      ],
      "execution_count": null,
      "outputs": [
        {
          "output_type": "stream",
          "text": [
            "tensor([[0.6109, 0.0432, 0.0000, 0.0188, 0.0075, 0.0357, 0.0038, 0.0376, 0.1053,\n",
            "         0.0000, 0.0113, 0.0038, 0.0094, 0.0000, 0.0827, 0.0000, 0.0301, 0.0000],\n",
            "        [0.0018, 0.5267, 0.0107, 0.0302, 0.0302, 0.0516, 0.0285, 0.0249, 0.0285,\n",
            "         0.0142, 0.0267, 0.0036, 0.0214, 0.0214, 0.1068, 0.0463, 0.0160, 0.0107],\n",
            "        [0.0123, 0.0333, 0.5070, 0.0509, 0.0228, 0.0193, 0.0000, 0.0000, 0.0000,\n",
            "         0.0000, 0.0000, 0.0596, 0.0544, 0.0000, 0.0211, 0.1158, 0.0246, 0.0789],\n",
            "        [0.0057, 0.0000, 0.0057, 0.8582, 0.0416, 0.0000, 0.0057, 0.0132, 0.0000,\n",
            "         0.0038, 0.0038, 0.0378, 0.0019, 0.0095, 0.0000, 0.0057, 0.0038, 0.0038],\n",
            "        [0.0000, 0.0074, 0.0000, 0.0773, 0.7459, 0.0000, 0.0000, 0.0092, 0.0147,\n",
            "         0.0147, 0.0000, 0.0000, 0.0589, 0.0018, 0.0442, 0.0018, 0.0239, 0.0000],\n",
            "        [0.0381, 0.0690, 0.0073, 0.0091, 0.0490, 0.4664, 0.0181, 0.0018, 0.1089,\n",
            "         0.0054, 0.0054, 0.0181, 0.0236, 0.0127, 0.1034, 0.0236, 0.0399, 0.0000],\n",
            "        [0.0278, 0.0204, 0.0037, 0.0593, 0.0111, 0.0130, 0.7148, 0.0130, 0.0148,\n",
            "         0.0167, 0.0019, 0.0056, 0.0111, 0.0019, 0.0185, 0.0259, 0.0333, 0.0074],\n",
            "        [0.0000, 0.0035, 0.0035, 0.0000, 0.0018, 0.0000, 0.0000, 0.8506, 0.0000,\n",
            "         0.0018, 0.0580, 0.0000, 0.0000, 0.0721, 0.0000, 0.0000, 0.0035, 0.0053],\n",
            "        [0.1436, 0.1138, 0.0140, 0.0210, 0.0683, 0.0736, 0.0490, 0.0123, 0.1926,\n",
            "         0.0158, 0.0088, 0.0053, 0.0315, 0.0053, 0.1331, 0.0350, 0.0701, 0.0070],\n",
            "        [0.0139, 0.0261, 0.0000, 0.0854, 0.0000, 0.0000, 0.0122, 0.0122, 0.0296,\n",
            "         0.6794, 0.0000, 0.0000, 0.0035, 0.0122, 0.0261, 0.0836, 0.0157, 0.0000],\n",
            "        [0.0000, 0.0000, 0.0000, 0.0000, 0.0000, 0.0000, 0.0000, 0.2652, 0.0000,\n",
            "         0.0000, 0.6791, 0.0000, 0.0000, 0.0557, 0.0000, 0.0000, 0.0000, 0.0000],\n",
            "        [0.0111, 0.0000, 0.0482, 0.0965, 0.0390, 0.0111, 0.0000, 0.0074, 0.0074,\n",
            "         0.0093, 0.0093, 0.5751, 0.0074, 0.0093, 0.0241, 0.0390, 0.0204, 0.0853],\n",
            "        [0.0018, 0.0128, 0.0219, 0.0347, 0.0055, 0.0018, 0.0000, 0.0000, 0.0384,\n",
            "         0.0000, 0.0000, 0.0055, 0.8720, 0.0000, 0.0000, 0.0000, 0.0000, 0.0055],\n",
            "        [0.0000, 0.0158, 0.0000, 0.0000, 0.0175, 0.0000, 0.0000, 0.3555, 0.0000,\n",
            "         0.0000, 0.0158, 0.0175, 0.0000, 0.5604, 0.0000, 0.0000, 0.0175, 0.0000],\n",
            "        [0.0703, 0.0973, 0.0090, 0.0144, 0.0324, 0.0432, 0.0234, 0.0126, 0.0450,\n",
            "         0.0108, 0.0180, 0.0072, 0.0054, 0.0198, 0.5189, 0.0252, 0.0342, 0.0126],\n",
            "        [0.0309, 0.0818, 0.0091, 0.0509, 0.0491, 0.0436, 0.0418, 0.0018, 0.0600,\n",
            "         0.1000, 0.0073, 0.0000, 0.0109, 0.0000, 0.1236, 0.3345, 0.0273, 0.0273],\n",
            "        [0.0688, 0.0380, 0.0091, 0.0145, 0.0290, 0.0326, 0.0362, 0.0181, 0.0634,\n",
            "         0.0036, 0.0000, 0.0000, 0.0127, 0.0000, 0.0272, 0.0145, 0.6250, 0.0072],\n",
            "        [0.0127, 0.0470, 0.1103, 0.0470, 0.0289, 0.0344, 0.0090, 0.0145, 0.0090,\n",
            "         0.0072, 0.0000, 0.1284, 0.0579, 0.0072, 0.0253, 0.0488, 0.0181, 0.3942]])\n"
          ],
          "name": "stdout"
        }
      ]
    },
    {
      "cell_type": "code",
      "metadata": {
        "colab": {
          "base_uri": "https://localhost:8080/",
          "height": 598
        },
        "id": "BqEZXRIZYeUn",
        "outputId": "5a4b7f82-40c1-43f5-84ac-8ab0598a723d"
      },
      "source": [
        "fig = plt.figure(figsize=(10, 10))\n",
        "ax = fig.add_subplot()\n",
        "cax = ax.matshow(confusion.numpy())\n",
        "fig.colorbar(cax)\n",
        "\n",
        "ax.set_xticklabels([''] + all_categories, rotation=90)\n",
        "ax.set_yticklabels([''] + all_categories)\n",
        "\n",
        "ax.xaxis.set_major_locator(ticker.MultipleLocator(1))\n",
        "ax.yaxis.set_major_locator(ticker.MultipleLocator(1))\n",
        "plt.show()"
      ],
      "execution_count": null,
      "outputs": [
        {
          "output_type": "display_data",
          "data": {
            "image/png": "[encoded data removed]",
            "text/plain": [
              "<Figure size 720x720 with 2 Axes>"
            ]
          },
          "metadata": {
            "tags": [],
            "needs_background": "light"
          }
        }
      ]
    },
    {
      "cell_type": "code",
      "metadata": {
        "id": "XcexpVi9ZPp8"
      },
      "source": [
        ""
      ],
      "execution_count": null,
      "outputs": []
    }
  ]
}